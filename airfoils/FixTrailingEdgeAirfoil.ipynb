{
 "cells": [
  {
   "cell_type": "code",
   "execution_count": 1,
   "id": "e1c886aa",
   "metadata": {},
   "outputs": [],
   "source": [
    "import matplotlib.pyplot as plt\n",
    "import numpy as np\n",
    "import scipy.interpolate as sint"
   ]
  },
  {
   "cell_type": "code",
   "execution_count": 2,
   "id": "189455b1",
   "metadata": {},
   "outputs": [],
   "source": [
    "airfoil = np.loadtxt(\"NRELs826.txt\", delimiter=\",\")\n",
    "centroid = np.mean(airfoil, axis=0)"
   ]
  },
  {
   "cell_type": "code",
   "execution_count": null,
   "id": "2eb182b0",
   "metadata": {},
   "outputs": [
    {
     "name": "stderr",
     "output_type": "stream",
     "text": [
      "/tmp/ipykernel_830660/3372395252.py:98: RuntimeWarning: invalid value encountered in power\n",
      "  x[i] = x[i]+signum*n[0]*shift_blend**ex*shift\n",
      "/tmp/ipykernel_830660/3372395252.py:99: RuntimeWarning: invalid value encountered in power\n",
      "  y[i] = y[i]+signum*n[1]*shift_blend**ex*shift\n"
     ]
    }
   ],
   "source": [
    "class TrailingEdgeFix:\n",
    "    \"\"\"\n",
    "        Fixes leading edge problem on airfoils for meshing, \n",
    "        and CFD applications. Main idea taken from PyAero\n",
    "        airfoil analysis.\n",
    "    \n",
    "    \"\"\"\n",
    "    \n",
    "    def __init__(self, airfoilpath): \n",
    "        \n",
    "        self.airfoilpath = airfoilpath\n",
    "        self.get_AirfoilSpline(150)\n",
    "        self.calc_CurvatureProps()\n",
    "        self.fix_TrailingEdge()\n",
    "        \n",
    "    def get_AirfoilSpline(self, points=300)->None: \n",
    "        \"\"\"\n",
    "            Parametrizes an airfoil based on a set points\n",
    "            using Cubic Spline Interpolation.\n",
    "\n",
    "        \"\"\"\n",
    "        try:\n",
    "            self.airfoildata = np.loadtxt(self.airfoilpath, delimiter=\",\")\n",
    "        except Exception as e:\n",
    "            print(e)\n",
    "        \n",
    "        self.spl = sint.splprep(self.airfoildata.T, s=0.0, k=2)\n",
    "        self.t = np.linspace(0, 1, points)\n",
    "        self.coords = np.array(sint.splev(self.t, self.spl[0], der=0))\n",
    "        self.d1 = sint.splev(self.t, self.spl[0], der=1)\n",
    "        self.d2 = sint.splev(self.t, self.spl[0], der=2)\n",
    "    \n",
    "    def calc_CurvatureProps(self):\n",
    "        \"\"\"\n",
    "            Calculates airfoil curve properties. \n",
    "        \"\"\"\n",
    "        x = self.coords[0]\n",
    "        y = self.coords[1]\n",
    "        x1d = self.d1[0]\n",
    "        y1d = self.d1[1]\n",
    "        x2d = self.d2[0]\n",
    "        y2d = self.d2[1]\n",
    "        \n",
    "        num = x1d*y2d-y1d*x2d\n",
    "        denom = (x1d**2+y1d**2)\n",
    "        \n",
    "        self.kappa = num/(denom**(3/2)) # curvature\n",
    "        self.R = 1/self.kappa #radius of curvature\n",
    "        \n",
    "        self.xc = x - self.R*x1d/np.sqrt(denom)\n",
    "        self.yc = y + self.R*y1d/np.sqrt(denom)\n",
    "        \n",
    "        self.leid = np.where(self.R == np.min(self.R))\n",
    "        self.xle = self.xc[self.leid[0][0]]\n",
    "        self.yle = self.yc[self.leid[0][0]]\n",
    "               \n",
    "\n",
    "    def refine_leading_edge(self):\n",
    "        \n",
    "        up_airfoil = self.coords[:, :self.leid[0][0]+1].T\n",
    "        down_airfoil = self.coords[:,self.leid[0][0]:].T\n",
    "    \n",
    "    \n",
    "\n",
    "        \n",
    "nrel = TrailingEdgeFix(\"NRELs826.txt\")\n"
   ]
  }
 ],
 "metadata": {
  "kernelspec": {
   "display_name": "Python 3 (ipykernel)",
   "language": "python",
   "name": "python3"
  },
  "language_info": {
   "codemirror_mode": {
    "name": "ipython",
    "version": 3
   },
   "file_extension": ".py",
   "mimetype": "text/x-python",
   "name": "python",
   "nbconvert_exporter": "python",
   "pygments_lexer": "ipython3",
   "version": "3.9.15"
  },
  "vscode": {
   "interpreter": {
    "hash": "f807ba713387e9f17237a39923224a116bbe4177518ded03c8b2eb3f91466da7"
   }
  }
 },
 "nbformat": 4,
 "nbformat_minor": 5
}
