{
 "cells": [
  {
   "cell_type": "markdown",
   "id": "6b93c86f-43ad-45b0-8930-44d3dd148f40",
   "metadata": {},
   "source": [
    "<h2><center>Procedure for Estimation and Reporting of Uncertainty Due to Discretization\n",
    "in CFD Applications</center></h2>\n",
    "\n",
    "<h4><center>Aerodynamic evaluation of modified SG6043 airfoils using\n",
    "the γ − Reθ turbulence model with OpenFOAM</center></h4>"
   ]
  },
  {
   "cell_type": "markdown",
   "id": "03530370-27a1-4363-bfd4-108c716a631a",
   "metadata": {},
   "source": [
    "This notebook implements the procedure for uncertainty quantification due to meshing in a CFD application according to the Fluids Engineering Division of ASME. The recommended procedure for the estimation of discretization error is as follows [1]:"
   ]
  },
  {
   "cell_type": "markdown",
   "id": "f39bda16-97c7-42bb-93b5-b41bbe1b9269",
   "metadata": {},
   "source": [
    "Step 1: Define a representative mesh / cell / grid size $h$,\n",
    "$$\n",
    "    h = \\left[ \\frac{1}{N}\\sum_{i=1}^{N} (\\Delta V_i) \\right]^{1/3}\\quad\\mathrm{3D}\n",
    "$$\n",
    "\n",
    "$$\n",
    "    h = \\left[ \\frac{1}{N}\\sum_{i=1}^{N} (\\Delta A_i) \\right]^{1/2}\\quad\\mathrm{2D}\n",
    "$$\n"
   ]
  },
  {
   "cell_type": "markdown",
   "id": "aba024b1-0aaf-4468-9b09-9feaeca862fd",
   "metadata": {},
   "source": [
    "Step 2: Select 3 significantly different sets of grids and run simulations to determine the values of key variables important to the objective of the simulation study. It is prefereble that the grid refinement factor satisfies the following condition:\n",
    "\n",
    "$$\n",
    "r = h_{\\mathrm{coarse}}/h_{\\mathrm{fine}} > 1.3\n",
    "$$"
   ]
  },
  {
   "cell_type": "markdown",
   "id": "dced637a-c9e1-4374-a45b-230dc41baad0",
   "metadata": {},
   "source": [
    "Step 3: Let $h_1 < h_2 < h_3$, $r_{21} = h_2/h_1$, $r_{32} = h_3/h_2$, and $\\varepsilon_{32}=\\phi_3-\\phi_2$, $\\varepsilon_{21}=\\phi_2-\\phi_1$ calculate the apparent order p of the method using, \n",
    "\n",
    "$$\n",
    "p = \\frac{1}{\\ln{(r_{21})}}|\\ln|\\varepsilon_{32}/\\varepsilon_{21}|+q(p)|\n",
    "$$\n",
    "\n",
    "with, \n",
    "\n",
    "$$\n",
    "q(p) = \\ln\\left(\\frac{r_{21}^p-s}{r_{32}^p-s}\\right)\n",
    "$$\n",
    "\n",
    "and \n",
    "\n",
    "$$\n",
    "s = 1·\\mathrm{sgn}(\\varepsilon_{32}/\\varepsilon_{21})\n",
    "$$\n",
    "\n",
    "\n"
   ]
  },
  {
   "cell_type": "markdown",
   "id": "2313e4ef-0130-45f0-8ec0-3bbe18b22c41",
   "metadata": {},
   "source": [
    "Step 4: Calculate the extrapolated values from, \n",
    "$$\n",
    "\\phi_{\\mathrm{ext}}^{21} = \\frac{(r_{21}^p\\phi_1-\\phi_2)}{(r_{21}^p-1)} \n",
    "$$\n",
    "\n",
    "\n",
    "Step 5: Calculate and report the following error estimates with the apparent order $p$, \n",
    "\n",
    "$$\n",
    "e_a^{21} = \\left| \\frac{\\phi_1-\\phi_2}{\\phi_1}\\right|\n",
    "$$\n",
    "\n",
    "$$\n",
    "e_{\\mathrm{ext}}^{21} = \\left| \\frac{\\phi_{\\mathrm{ext}}^{21}-\\phi_1}{\\phi_{\\mathrm{ext}}^{21}}\\right|\n",
    "$$\n",
    "\n",
    "$$\n",
    "GCI_{\\mathrm{fine}}^{21} = \\frac{1.25e_{a}^{21}}{r_{21}^p-1}\n",
    "$$"
   ]
  },
  {
   "cell_type": "code",
   "execution_count": 2,
   "id": "96cc20fb-74d6-45c8-8399-d8b2316d4fcd",
   "metadata": {},
   "outputs": [],
   "source": [
    "# Array handling and numerical methods\n",
    "import numpy as np\n",
    "from scipy.optimize import fixed_point\n",
    "\n",
    "# plotting and visualizing\n",
    "import matplotlib.pyplot as plt\n",
    "\n",
    "# OpenFOAM file handling\n",
    "from PyFoam.RunDictionary.ParsedParameterFile import ParsedParameterFile"
   ]
  },
  {
   "cell_type": "code",
   "execution_count": 3,
   "id": "084cfa59-d93c-4022-9018-25a3b543442a",
   "metadata": {},
   "outputs": [],
   "source": [
    "# Get values from OpenFOAM case\n",
    "\n",
    "case_directory = \"../runs\"\n",
    "meshcase1 = \"/GRTsteady0Mesh0\"\n",
    "meshcase2 = \"/GRTsteady0Mesh1\" \n",
    "meshcase3 = \"/GRTsteady0Mesh2\" \n",
    "\n",
    "VolumeFile1 = ParsedParameterFile(case_directory+meshcase1+\"/4000/V\")\n",
    "VolumeFile2 = ParsedParameterFile(case_directory+meshcase2+\"/4000/V\")\n",
    "VolumeFile3 = ParsedParameterFile(case_directory+meshcase3+\"/4000/V\")\n",
    "\n",
    "coeffFile1 = np.loadtxt(case_directory+meshcase1+\n",
    "                        \"/postProcessing/forceCoeffs/0/forceCoeffs.dat\")\n",
    "coeffFile2 = np.loadtxt(case_directory+meshcase2+\n",
    "                        \"/postProcessing/forceCoeffs/0/forceCoeffs.dat\")\n",
    "coeffFile3 = np.loadtxt(case_directory+meshcase3+\n",
    "                        \"/postProcessing/forceCoeffs/0/forceCoeffs.dat\")"
   ]
  },
  {
   "cell_type": "code",
   "execution_count": 4,
   "id": "99d010b2-23ad-42ea-b5ba-d9889e59c79f",
   "metadata": {},
   "outputs": [],
   "source": [
    "volumes1 = np.array(VolumeFile1[\"internalField\"])\n",
    "volumes2 = np.array(VolumeFile2[\"internalField\"])\n",
    "volumes3 = np.array(VolumeFile3[\"internalField\"])\n",
    "\n",
    "h3 = np.mean(volumes1)**(1/3)\n",
    "h2 = np.mean(volumes2)**(1/3)\n",
    "h1 = np.mean(volumes3)**(1/3)\n",
    "\n",
    "Cp3 = np.mean(coeffFile1, axis=0)[3]\n",
    "Cp2 = np.mean(coeffFile2, axis=0)[3]\n",
    "Cp1 = np.mean(coeffFile3, axis=0)[3]"
   ]
  },
  {
   "cell_type": "code",
   "execution_count": 5,
   "id": "4b252c2d-abd2-40df-85cf-8e60955444e4",
   "metadata": {},
   "outputs": [
    {
     "name": "stdout",
     "output_type": "stream",
     "text": [
      "0.011036442541895581 0.014584054838204618 0.018361206061764508\n"
     ]
    }
   ],
   "source": [
    "print(h1,h2,h3)"
   ]
  },
  {
   "cell_type": "code",
   "execution_count": 6,
   "id": "973132b8-533b-44cf-b5d0-883be3b68bd5",
   "metadata": {},
   "outputs": [
    {
     "name": "stdout",
     "output_type": "stream",
     "text": [
      "[1.3214452739496354, 1.2589918418069306]\n"
     ]
    }
   ],
   "source": [
    "eps = [Cp2-Cp1, Cp3-Cp2]\n",
    "r = [h2/h1, h3/h2]\n",
    "print(r)"
   ]
  },
  {
   "cell_type": "code",
   "execution_count": 7,
   "id": "dfac7e49-2cb8-4812-97af-2e8f4c5b2d3b",
   "metadata": {},
   "outputs": [],
   "source": [
    "def q(p, r, s):\n",
    "    return np.log((r[0]**p-s)/(r[1]**p-s))\n",
    "                                   \n",
    "def p(p, eps, r):\n",
    "    feps = eps[1]/eps[0]\n",
    "    resp = (1/np.log(r[0]))*np.abs(np.log(np.abs(feps))+q(p, r, np.sign(feps)))\n",
    "                                      \n",
    "    return resp"
   ]
  },
  {
   "cell_type": "code",
   "execution_count": 8,
   "id": "16cbd7a5-5f9c-4bc9-b431-c4741b0ce891",
   "metadata": {},
   "outputs": [
    {
     "name": "stdout",
     "output_type": "stream",
     "text": [
      "3.001893598175936\n"
     ]
    }
   ],
   "source": [
    "# p - order solution by minimization\n",
    "\n",
    "feps = eps[1]/eps[0]\n",
    "p0 = (1/np.log(r[0]))*np.abs(np.log(np.abs(feps)))\n",
    "px = fixed_point(p, p0, (eps, r))\n",
    "print(px)"
   ]
  },
  {
   "cell_type": "code",
   "execution_count": 10,
   "id": "ec16190b-f58b-4b15-9fed-12ad7eb6cea4",
   "metadata": {},
   "outputs": [
    {
     "name": "stdout",
     "output_type": "stream",
     "text": [
      "0.42694368746092365\n"
     ]
    }
   ],
   "source": [
    "Cpext21 = (r[0]**px*Cp1-Cp2)/(r[0]**px-1) \n",
    "print(Cpext21)"
   ]
  },
  {
   "cell_type": "markdown",
   "id": "5c7e14fc-f8b4-4012-bd9a-3fa0ad62c8df",
   "metadata": {},
   "source": [
    "[1]“Procedure for Estimation and Reporting of Uncertainty Due to Discretization in CFD Applications” \n",
    "Journal of Fluids Engineering, vol. 130, no. 7. ASME International, p. 078001, 2008. doi: 10.1115/1.2960953."
   ]
  }
 ],
 "metadata": {
  "kernelspec": {
   "display_name": "Python 3 (ipykernel)",
   "language": "python",
   "name": "python3"
  },
  "language_info": {
   "codemirror_mode": {
    "name": "ipython",
    "version": 3
   },
   "file_extension": ".py",
   "mimetype": "text/x-python",
   "name": "python",
   "nbconvert_exporter": "python",
   "pygments_lexer": "ipython3",
   "version": "3.9.15"
  }
 },
 "nbformat": 4,
 "nbformat_minor": 5
}
