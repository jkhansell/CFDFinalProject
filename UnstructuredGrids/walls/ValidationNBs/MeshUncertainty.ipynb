{
 "cells": [
  {
   "cell_type": "markdown",
   "id": "6b93c86f-43ad-45b0-8930-44d3dd148f40",
   "metadata": {},
   "source": [
    "<h2><center>Procedure for Estimation and Reporting of Uncertainty Due to Discretization\n",
    "in CFD Applications</center></h2>\n",
    "\n",
    "<h4><center>Aerodynamic evaluation of modified SG6043 airfoils using\n",
    "the γ − Reθ turbulence model with OpenFOAM</center></h4>"
   ]
  },
  {
   "cell_type": "markdown",
   "id": "03530370-27a1-4363-bfd4-108c716a631a",
   "metadata": {},
   "source": [
    "This notebook implements the procedure for uncertainty quantification due to meshing in a CFD application according to the Fluids Engineering Division of ASME. The recommended procedure for the estimation of discretization error is as follows [1]:"
   ]
  },
  {
   "cell_type": "markdown",
   "id": "f39bda16-97c7-42bb-93b5-b41bbe1b9269",
   "metadata": {},
   "source": [
    "Step 1: Define a representative mesh / cell / grid size $h$,\n",
    "$$\n",
    "    h = \\left[ \\frac{1}{N}\\sum_{i=1}^{N} (\\Delta V_i) \\right]^{1/3}\\quad\\mathrm{3D}\n",
    "$$\n",
    "\n",
    "$$\n",
    "    h = \\left[ \\frac{1}{N}\\sum_{i=1}^{N} (\\Delta A_i) \\right]^{1/2}\\quad\\mathrm{2D}\n",
    "$$\n"
   ]
  },
  {
   "cell_type": "markdown",
   "id": "aba024b1-0aaf-4468-9b09-9feaeca862fd",
   "metadata": {},
   "source": [
    "Step 2: Select 3 significantly different sets of grids and run simulations to determine the values of key variables important to the objective of the simulation study. It is prefereble that the grid refinement factor satisfies the following condition:\n",
    "\n",
    "$$\n",
    "r = h_{\\mathrm{coarse}}/h_{\\mathrm{fine}} > 1.3\n",
    "$$"
   ]
  },
  {
   "cell_type": "markdown",
   "id": "dced637a-c9e1-4374-a45b-230dc41baad0",
   "metadata": {},
   "source": [
    "Step 3: Let $h_1 < h_2 < h_3$, $r_{21} = h_2/h_1$, $r_{32} = h_3/h_2$, and $\\varepsilon_{32}=\\phi_3-\\phi_2$, $\\varepsilon_{21}=\\phi_2-\\phi_1$ calculate the apparent order p of the method using, \n",
    "\n",
    "$$\n",
    "p = \\frac{1}{\\ln{(r_{21})}}|\\ln|\\varepsilon_{32}/\\varepsilon_{21}|+q(p)|\n",
    "$$\n",
    "\n",
    "with, \n",
    "\n",
    "$$\n",
    "q(p) = \\ln\\left(\\frac{r_{21}^p-s}{r_{32}^p-s}\\right)\n",
    "$$\n",
    "\n",
    "and \n",
    "\n",
    "$$\n",
    "s = 1·\\mathrm{sgn}(\\varepsilon_{32}/\\varepsilon_{21})\n",
    "$$\n",
    "\n",
    "\n"
   ]
  },
  {
   "cell_type": "markdown",
   "id": "2313e4ef-0130-45f0-8ec0-3bbe18b22c41",
   "metadata": {},
   "source": [
    "Step 4: Calculate the extrapolated values from, \n",
    "$$\n",
    "\\phi_{\\mathrm{ext}}^{21} = \\frac{(r_{21}^p\\phi_1-\\phi_2)}{(r_{21}^p-1)} \n",
    "$$\n",
    "\n",
    "\n",
    "Step 5: Calculate and report the following error estimates with the apparent order $p$, \n",
    "\n",
    "$$\n",
    "e_a^{21} = \\left| \\frac{\\phi_1-\\phi_2}{\\phi_1}\\right|\n",
    "$$\n",
    "\n",
    "$$\n",
    "e_{\\mathrm{ext}}^{21} = \\left| \\frac{\\phi_{\\mathrm{ext}}^{21}-\\phi_1}{\\phi_{\\mathrm{ext}}^{21}}\\right|\n",
    "$$\n",
    "\n",
    "$$\n",
    "GCI_{\\mathrm{fine}}^{21} = \\frac{1.25e_{a}^{21}}{r_{21}^p-1}\n",
    "$$"
   ]
  },
  {
   "cell_type": "code",
   "execution_count": 1,
   "id": "96cc20fb-74d6-45c8-8399-d8b2316d4fcd",
   "metadata": {},
   "outputs": [],
   "source": [
    "# Array handling and numerical methods\n",
    "import numpy as np\n",
    "from scipy.optimize import fixed_point\n",
    "\n",
    "# plotting and visualizing\n",
    "import matplotlib.pyplot as plt\n",
    "\n",
    "# OpenFOAM file handling\n",
    "import os\n",
    "from PyFoam.RunDictionary.ParsedParameterFile import ParsedParameterFile"
   ]
  },
  {
   "cell_type": "code",
   "execution_count": 61,
   "id": "48856da2-b870-4395-a75f-1c8451ec9d84",
   "metadata": {},
   "outputs": [],
   "source": [
    "def get_meshsweep_data(sweepdir):\n",
    "\n",
    "    coefs = []\n",
    "    h = []\n",
    "\n",
    "    for file in os.listdir(sweepdir):\n",
    "        \n",
    "        volumeFile = ParsedParameterFile(os.path.join(sweepdir, file, \"5000/V\"))\n",
    "        volume = np.array(volumeFile[\"internalField\"])\n",
    "        coeffFile = np.loadtxt(os.path.join(sweepdir, file,  \"postProcessing/forceCoeffs/0/forceCoeffs.dat\"))\n",
    "\n",
    "        coefs.append(np.mean(coeffFile, axis=0)[2:4])\n",
    "        h.append(np.mean(volume)**(1/3))\n",
    "        \n",
    "    coefs = np.array(coefs)\n",
    "    h = np.array(h)\n",
    "        \n",
    "    return coefs, h\n",
    "\n",
    "def q(p, r, s):\n",
    "    return np.log((r[0]**p-s)/(r[1]**p-s))\n",
    "                                   \n",
    "def p(p, eps, r):\n",
    "    feps = eps[1]/eps[0]\n",
    "    resp = (1/np.log(r[0]))*np.abs(np.log(np.abs(feps))+q(p, r, np.sign(feps)))\n",
    "                                      \n",
    "    return resp\n",
    "def uncertainty_quant(sweepdir):\n",
    "    \"\"\"\n",
    "        Calculates the grid convergence index of the simulation \n",
    "        based on the mesh convergence study.\n",
    "    \"\"\"\n",
    "\n",
    "    coefs, h = get_meshsweep_data(sweepdir)\n",
    "    eps = np.diff(coefs, axis=0)\n",
    "    \n",
    "    r = h[:-1]/h[1:]\n",
    "    r = r.reshape(-1, 1)\n",
    "    \n",
    "    feps = eps[1:]/eps[:-1]\n",
    "    \n",
    "    p0 = (1/np.log(r[1:]))*np.abs(np.log(np.abs(feps)))\n",
    "    px = np.zeros_like(p0)\n",
    "    \n",
    "    for i in range(len(p0)):\n",
    "        \n",
    "        R0 = [r[i], r[i+1]]\n",
    "        R1 = [r[i], r[i+1]]\n",
    "        \n",
    "        EPS0 = [eps[i,0], eps[i+1,0]]\n",
    "        EPS1 = [eps[i,1], eps[i+1,1]]\n",
    "        \n",
    "        px[i, 0] = fixed_point(p, p0[i,0], (EPS0, R0))\n",
    "        px[i, 1] = fixed_point(p, p0[i,1], (EPS1, R1))\n",
    "    \n",
    "    return px"
   ]
  },
  {
   "cell_type": "code",
   "execution_count": 62,
   "id": "08e19b5a-712f-4ed7-a690-56bab2db0dd9",
   "metadata": {},
   "outputs": [
    {
     "name": "stderr",
     "output_type": "stream",
     "text": [
      "/tmp/ipykernel_54456/3260073427.py:21: RuntimeWarning: overflow encountered in power\n",
      "  return np.log((r[0]**p-s)/(r[1]**p-s))\n"
     ]
    },
    {
     "ename": "RuntimeError",
     "evalue": "Failed to converge after 500 iterations, value is [nan]",
     "output_type": "error",
     "traceback": [
      "\u001b[0;31m---------------------------------------------------------------------------\u001b[0m",
      "\u001b[0;31mRuntimeError\u001b[0m                              Traceback (most recent call last)",
      "Cell \u001b[0;32mIn[62], line 1\u001b[0m\n\u001b[0;32m----> 1\u001b[0m \u001b[43muncertainty_quant\u001b[49m\u001b[43m(\u001b[49m\u001b[38;5;124;43m\"\u001b[39;49m\u001b[38;5;124;43m../meshsweep_NREL/\u001b[39;49m\u001b[38;5;124;43m\"\u001b[39;49m\u001b[43m)\u001b[49m\n",
      "Cell \u001b[0;32mIn[61], line 53\u001b[0m, in \u001b[0;36muncertainty_quant\u001b[0;34m(sweepdir)\u001b[0m\n\u001b[1;32m     50\u001b[0m     EPS0 \u001b[38;5;241m=\u001b[39m [eps[i,\u001b[38;5;241m0\u001b[39m], eps[i\u001b[38;5;241m+\u001b[39m\u001b[38;5;241m1\u001b[39m,\u001b[38;5;241m0\u001b[39m]]\n\u001b[1;32m     51\u001b[0m     EPS1 \u001b[38;5;241m=\u001b[39m [eps[i,\u001b[38;5;241m1\u001b[39m], eps[i\u001b[38;5;241m+\u001b[39m\u001b[38;5;241m1\u001b[39m,\u001b[38;5;241m1\u001b[39m]]\n\u001b[0;32m---> 53\u001b[0m     px[i, \u001b[38;5;241m0\u001b[39m] \u001b[38;5;241m=\u001b[39m \u001b[43mfixed_point\u001b[49m\u001b[43m(\u001b[49m\u001b[43mp\u001b[49m\u001b[43m,\u001b[49m\u001b[43m \u001b[49m\u001b[43mp0\u001b[49m\u001b[43m[\u001b[49m\u001b[43mi\u001b[49m\u001b[43m,\u001b[49m\u001b[38;5;241;43m0\u001b[39;49m\u001b[43m]\u001b[49m\u001b[43m,\u001b[49m\u001b[43m \u001b[49m\u001b[43m(\u001b[49m\u001b[43mEPS0\u001b[49m\u001b[43m,\u001b[49m\u001b[43m \u001b[49m\u001b[43mR0\u001b[49m\u001b[43m)\u001b[49m\u001b[43m)\u001b[49m\n\u001b[1;32m     54\u001b[0m     px[i, \u001b[38;5;241m1\u001b[39m] \u001b[38;5;241m=\u001b[39m fixed_point(p, p0[i,\u001b[38;5;241m1\u001b[39m], (EPS1, R1))\n\u001b[1;32m     56\u001b[0m \u001b[38;5;28;01mreturn\u001b[39;00m px\n",
      "File \u001b[0;32m~/miniconda3/envs/OFgmsh/lib/python3.9/site-packages/scipy/optimize/_minpack_py.py:1016\u001b[0m, in \u001b[0;36mfixed_point\u001b[0;34m(func, x0, args, xtol, maxiter, method)\u001b[0m\n\u001b[1;32m   1014\u001b[0m use_accel \u001b[38;5;241m=\u001b[39m {\u001b[38;5;124m'\u001b[39m\u001b[38;5;124mdel2\u001b[39m\u001b[38;5;124m'\u001b[39m: \u001b[38;5;28;01mTrue\u001b[39;00m, \u001b[38;5;124m'\u001b[39m\u001b[38;5;124miteration\u001b[39m\u001b[38;5;124m'\u001b[39m: \u001b[38;5;28;01mFalse\u001b[39;00m}[method]\n\u001b[1;32m   1015\u001b[0m x0 \u001b[38;5;241m=\u001b[39m _asarray_validated(x0, as_inexact\u001b[38;5;241m=\u001b[39m\u001b[38;5;28;01mTrue\u001b[39;00m)\n\u001b[0;32m-> 1016\u001b[0m \u001b[38;5;28;01mreturn\u001b[39;00m \u001b[43m_fixed_point_helper\u001b[49m\u001b[43m(\u001b[49m\u001b[43mfunc\u001b[49m\u001b[43m,\u001b[49m\u001b[43m \u001b[49m\u001b[43mx0\u001b[49m\u001b[43m,\u001b[49m\u001b[43m \u001b[49m\u001b[43margs\u001b[49m\u001b[43m,\u001b[49m\u001b[43m \u001b[49m\u001b[43mxtol\u001b[49m\u001b[43m,\u001b[49m\u001b[43m \u001b[49m\u001b[43mmaxiter\u001b[49m\u001b[43m,\u001b[49m\u001b[43m \u001b[49m\u001b[43muse_accel\u001b[49m\u001b[43m)\u001b[49m\n",
      "File \u001b[0;32m~/miniconda3/envs/OFgmsh/lib/python3.9/site-packages/scipy/optimize/_minpack_py.py:969\u001b[0m, in \u001b[0;36m_fixed_point_helper\u001b[0;34m(func, x0, args, xtol, maxiter, use_accel)\u001b[0m\n\u001b[1;32m    967\u001b[0m     p0 \u001b[38;5;241m=\u001b[39m p\n\u001b[1;32m    968\u001b[0m msg \u001b[38;5;241m=\u001b[39m \u001b[38;5;124m\"\u001b[39m\u001b[38;5;124mFailed to converge after \u001b[39m\u001b[38;5;132;01m%d\u001b[39;00m\u001b[38;5;124m iterations, value is \u001b[39m\u001b[38;5;132;01m%s\u001b[39;00m\u001b[38;5;124m\"\u001b[39m \u001b[38;5;241m%\u001b[39m (maxiter, p)\n\u001b[0;32m--> 969\u001b[0m \u001b[38;5;28;01mraise\u001b[39;00m \u001b[38;5;167;01mRuntimeError\u001b[39;00m(msg)\n",
      "\u001b[0;31mRuntimeError\u001b[0m: Failed to converge after 500 iterations, value is [nan]"
     ]
    }
   ],
   "source": [
    "uncertainty_quant(\"../meshsweep_NREL/\")"
   ]
  },
  {
   "cell_type": "markdown",
   "id": "5c7e14fc-f8b4-4012-bd9a-3fa0ad62c8df",
   "metadata": {},
   "source": [
    "[1]“Procedure for Estimation and Reporting of Uncertainty Due to Discretization in CFD Applications” \n",
    "Journal of Fluids Engineering, vol. 130, no. 7. ASME International, p. 078001, 2008. doi: 10.1115/1.2960953."
   ]
  }
 ],
 "metadata": {
  "kernelspec": {
   "display_name": "Python 3 (ipykernel)",
   "language": "python",
   "name": "python3"
  },
  "language_info": {
   "codemirror_mode": {
    "name": "ipython",
    "version": 3
   },
   "file_extension": ".py",
   "mimetype": "text/x-python",
   "name": "python",
   "nbconvert_exporter": "python",
   "pygments_lexer": "ipython3",
   "version": "3.9.15"
  }
 },
 "nbformat": 4,
 "nbformat_minor": 5
}
